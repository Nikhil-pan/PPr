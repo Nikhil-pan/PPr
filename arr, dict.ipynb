{
 "cells": [
  {
   "cell_type": "code",
   "execution_count": 1,
   "id": "74c08ca9",
   "metadata": {
    "scrolled": true
   },
   "outputs": [
    {
     "name": "stdout",
     "output_type": "stream",
     "text": [
      "hello jupyter\n"
     ]
    }
   ],
   "source": [
    "print(\"hello jupyter\")"
   ]
  },
  {
   "cell_type": "code",
   "execution_count": 1,
   "id": "7ab62694",
   "metadata": {},
   "outputs": [
    {
     "name": "stdout",
     "output_type": "stream",
     "text": [
      "the stack is: ['a', 'b']\n",
      "the stack is now: ['a']\n"
     ]
    }
   ],
   "source": [
    "stack=[]\n",
    "stack.append('a')\n",
    "stack.append('b')\n",
    "\n",
    "print(\"the stack is:\",stack)\n",
    "\n",
    "val=int(input(\"select the element to pop:\"))\n",
    "stack.pop(val)\n",
    "print(\"the stack is now:\",stack)\n",
    "\n",
    "\n"
   ]
  },
  {
   "cell_type": "code",
   "execution_count": 3,
   "id": "8ea4956e",
   "metadata": {},
   "outputs": [
    {
     "name": "stdout",
     "output_type": "stream",
     "text": [
      "the stack u input is: ['1', '1', '1', '1', '1']\n",
      "the stack now: ['1', '1', '1', '1']\n"
     ]
    }
   ],
   "source": [
    "stac=[]\n",
    "for i in range(5):\n",
    "    val=input(\"enter the values:\")\n",
    "    stac.append(val)\n",
    "print(\"the stack u input is:\",stac)\n",
    "ind_pop=int(input(\"enter the index to delete:\"))\n",
    "\n",
    "stac.pop(ind_pop)\n",
    "print(\"the stack now:\",stac)\n",
    "\n"
   ]
  },
  {
   "cell_type": "code",
   "execution_count": 2,
   "id": "3f82684d",
   "metadata": {},
   "outputs": [
    {
     "name": "stdout",
     "output_type": "stream",
     "text": [
      "the stack is  deque(['1', '2', '3'])\n",
      "the second element 2\n"
     ]
    }
   ],
   "source": [
    "from collections import deque\n",
    "\n",
    "stack=deque()\n",
    "\n",
    "for i in range(3):\n",
    "    val=input(\"enter the values:\")\n",
    "    stack.append(val)\n",
    "print(\"the stack is \",stack)\n",
    "\n",
    "print('the second element',stack[1])\n",
    "\n",
    "\n",
    "    "
   ]
  },
  {
   "cell_type": "code",
   "execution_count": 14,
   "id": "a96dce41",
   "metadata": {},
   "outputs": [
    {
     "name": "stdout",
     "output_type": "stream",
     "text": [
      "{'1': 'kanto', '2': 'chubu', '3': 'shikoku', '4': 'tohoku'}\n",
      "kanto\n",
      "shikoku\n",
      "{'1': 'kanto', '2': 'chubu', '3': 'shikoku', '4': {1: 'aomori', 2: 'iwate', 3: 'miyagi'}, '5': 'kansai'}\n",
      "{'1': 'kanto', '2': 'chubu', '3': 'shikoku', '4': {1: 'akita', 2: 'iwate', 3: 'miyagi'}, '5': 'kansai'}\n"
     ]
    }
   ],
   "source": [
    "dict={\n",
    "    '1':'kanto',\n",
    "    '2':'chubu',\n",
    "    '3':'shikoku',\n",
    "    '4':'tohoku'\n",
    "}\n",
    "\n",
    "print(dict)\n",
    "\n",
    "print(dict['1'])\n",
    "\n",
    "print(dict.get('3'))\n",
    "\n",
    "dict['5']='kansai'\n",
    "\n",
    "\n",
    "dict['4']={\n",
    "    1:'aomori',\n",
    "    2:'iwate',\n",
    "    3:'miyagi'\n",
    "}\n",
    "\n",
    "print(dict)\n",
    "\n",
    "dict['4'][1]='akita'\n",
    "print(dict)"
   ]
  },
  {
   "cell_type": "code",
   "execution_count": 1,
   "id": "7fafb225",
   "metadata": {},
   "outputs": [],
   "source": [
    "\n",
    "\n"
   ]
  },
  {
   "cell_type": "code",
   "execution_count": null,
   "id": "50819b6a",
   "metadata": {},
   "outputs": [],
   "source": []
  }
 ],
 "metadata": {
  "kernelspec": {
   "display_name": "Python 3 (ipykernel)",
   "language": "python",
   "name": "python3"
  },
  "language_info": {
   "codemirror_mode": {
    "name": "ipython",
    "version": 3
   },
   "file_extension": ".py",
   "mimetype": "text/x-python",
   "name": "python",
   "nbconvert_exporter": "python",
   "pygments_lexer": "ipython3",
   "version": "3.9.12"
  },
  "vscode": {
   "interpreter": {
    "hash": "76d7c06053c3456e5600312cec90888656fc0ed30c03d8425b9dac6e4fc8e014"
   }
  }
 },
 "nbformat": 4,
 "nbformat_minor": 5
}
