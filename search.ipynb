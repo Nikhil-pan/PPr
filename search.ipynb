{
 "cells": [
  {
   "cell_type": "code",
   "execution_count": 30,
   "id": "479d4ecd",
   "metadata": {},
   "outputs": [
    {
     "name": "stdout",
     "output_type": "stream",
     "text": [
      "enter the number of nodes:2\n",
      "input in the format 'key':['value1', 'value2', ...]: 3:\n",
      "input in the format 'key':['value1', 'value2', ...]: 3:\n",
      "{'3': ['']}\n"
     ]
    }
   ],
   "source": [
    "graph = {}\n",
    "val=int(input(\"enter the number of nodes:\"))\n",
    "\n",
    "for i in range (val):\n",
    "    \n",
    "    kv_str = input(\"input in the format 'key':['value1', 'value2', ...]: \")\n",
    "\n",
    "    key, values = kv_str.split(':')\n",
    "    values = [v.strip() for v in values.strip('[]').split(',')]\n",
    "    graph[key.strip()] = values\n",
    "\n",
    "print(graph)\n",
    "\n"
   ]
  },
  {
   "cell_type": "code",
   "execution_count": 10,
   "id": "ae3ab4dd",
   "metadata": {
    "scrolled": true
   },
   "outputs": [
    {
     "name": "stdout",
     "output_type": "stream",
     "text": [
      "['the', 'name', 'i', 'dont', 'know']\n"
     ]
    }
   ],
   "source": [
    "str='the name i dont know'\n",
    "print(str.split(' '))"
   ]
  },
  {
   "cell_type": "code",
   "execution_count": 31,
   "id": "79345d5b",
   "metadata": {},
   "outputs": [
    {
     "name": "stdout",
     "output_type": "stream",
     "text": [
      "Following is the Depth-First Search\n",
      "1\n",
      "2\n",
      "4\n",
      "5\n",
      "3\n"
     ]
    }
   ],
   "source": [
    "graph = {\n",
    "    '1':['2','3'],\n",
    "    '2':['4'],\n",
    "    '3':[],\n",
    "    '4':['5'],\n",
    "    '5':['3']\n",
    "}\n",
    "\n",
    "visited = set() # Set to keep track of visited nodes of graph.\n",
    "\n",
    "def dfs(visited, graph, node):  #function for dfs \n",
    "    if node not in visited:\n",
    "        print (node)\n",
    "        visited.add(node)\n",
    "        for neighbour in graph[node]:\n",
    "            dfs(visited, graph, neighbour)\n",
    "\n",
    "# Driver Code\n",
    "print(\"Following is the Depth-First Search\")\n",
    "dfs(visited, graph, '1')"
   ]
  },
  {
   "cell_type": "code",
   "execution_count": null,
   "id": "d19b14c2",
   "metadata": {},
   "outputs": [],
   "source": []
  }
 ],
 "metadata": {
  "kernelspec": {
   "display_name": "Python 3",
   "language": "python",
   "name": "python3"
  },
  "language_info": {
   "codemirror_mode": {
    "name": "ipython",
    "version": 3
   },
   "file_extension": ".py",
   "mimetype": "text/x-python",
   "name": "python",
   "nbconvert_exporter": "python",
   "pygments_lexer": "ipython3",
   "version": "3.10.4"
  },
  "vscode": {
   "interpreter": {
    "hash": "76d7c06053c3456e5600312cec90888656fc0ed30c03d8425b9dac6e4fc8e014"
   }
  }
 },
 "nbformat": 4,
 "nbformat_minor": 5
}
