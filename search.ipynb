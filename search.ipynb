{
 "cells": [
  {
   "cell_type": "code",
   "execution_count": 1,
   "id": "6a44d211",
   "metadata": {
    "scrolled": true
   },
   "outputs": [
    {
     "name": "stdout",
     "output_type": "stream",
     "text": [
      "{'1': ['2', '3'], '2': ['4'], '3': [''], '4': ['5'], '5': ['3']}\n",
      "1\n",
      "2\n",
      "4\n",
      "5\n",
      "3\n",
      "\n"
     ]
    },
    {
     "ename": "KeyError",
     "evalue": "''",
     "output_type": "error",
     "traceback": [
      "\u001b[1;31m---------------------------------------------------------------------------\u001b[0m",
      "\u001b[1;31mKeyError\u001b[0m                                  Traceback (most recent call last)",
      "\u001b[1;32md:\\PPr\\search.ipynb Cell 1\u001b[0m in \u001b[0;36m<cell line: 23>\u001b[1;34m()\u001b[0m\n\u001b[0;32m     <a href='vscode-notebook-cell:/d%3A/PPr/search.ipynb#W0sZmlsZQ%3D%3D?line=18'>19</a>\u001b[0m         \u001b[39mfor\u001b[39;00m neighbour \u001b[39min\u001b[39;00m graph[node]:\n\u001b[0;32m     <a href='vscode-notebook-cell:/d%3A/PPr/search.ipynb#W0sZmlsZQ%3D%3D?line=19'>20</a>\u001b[0m             dfs(visited, graph, neighbour)\n\u001b[1;32m---> <a href='vscode-notebook-cell:/d%3A/PPr/search.ipynb#W0sZmlsZQ%3D%3D?line=22'>23</a>\u001b[0m dfs(visited, graph, \u001b[39m'\u001b[39;49m\u001b[39m1\u001b[39;49m\u001b[39m'\u001b[39;49m)\n",
      "\u001b[1;32md:\\PPr\\search.ipynb Cell 1\u001b[0m in \u001b[0;36mdfs\u001b[1;34m(visited, graph, node)\u001b[0m\n\u001b[0;32m     <a href='vscode-notebook-cell:/d%3A/PPr/search.ipynb#W0sZmlsZQ%3D%3D?line=17'>18</a>\u001b[0m visited\u001b[39m.\u001b[39madd(node)\n\u001b[0;32m     <a href='vscode-notebook-cell:/d%3A/PPr/search.ipynb#W0sZmlsZQ%3D%3D?line=18'>19</a>\u001b[0m \u001b[39mfor\u001b[39;00m neighbour \u001b[39min\u001b[39;00m graph[node]:\n\u001b[1;32m---> <a href='vscode-notebook-cell:/d%3A/PPr/search.ipynb#W0sZmlsZQ%3D%3D?line=19'>20</a>\u001b[0m     dfs(visited, graph, neighbour)\n",
      "\u001b[1;32md:\\PPr\\search.ipynb Cell 1\u001b[0m in \u001b[0;36mdfs\u001b[1;34m(visited, graph, node)\u001b[0m\n\u001b[0;32m     <a href='vscode-notebook-cell:/d%3A/PPr/search.ipynb#W0sZmlsZQ%3D%3D?line=17'>18</a>\u001b[0m visited\u001b[39m.\u001b[39madd(node)\n\u001b[0;32m     <a href='vscode-notebook-cell:/d%3A/PPr/search.ipynb#W0sZmlsZQ%3D%3D?line=18'>19</a>\u001b[0m \u001b[39mfor\u001b[39;00m neighbour \u001b[39min\u001b[39;00m graph[node]:\n\u001b[1;32m---> <a href='vscode-notebook-cell:/d%3A/PPr/search.ipynb#W0sZmlsZQ%3D%3D?line=19'>20</a>\u001b[0m     dfs(visited, graph, neighbour)\n",
      "    \u001b[1;31m[... skipping similar frames: dfs at line 20 (2 times)]\u001b[0m\n",
      "\u001b[1;32md:\\PPr\\search.ipynb Cell 1\u001b[0m in \u001b[0;36mdfs\u001b[1;34m(visited, graph, node)\u001b[0m\n\u001b[0;32m     <a href='vscode-notebook-cell:/d%3A/PPr/search.ipynb#W0sZmlsZQ%3D%3D?line=17'>18</a>\u001b[0m visited\u001b[39m.\u001b[39madd(node)\n\u001b[0;32m     <a href='vscode-notebook-cell:/d%3A/PPr/search.ipynb#W0sZmlsZQ%3D%3D?line=18'>19</a>\u001b[0m \u001b[39mfor\u001b[39;00m neighbour \u001b[39min\u001b[39;00m graph[node]:\n\u001b[1;32m---> <a href='vscode-notebook-cell:/d%3A/PPr/search.ipynb#W0sZmlsZQ%3D%3D?line=19'>20</a>\u001b[0m     dfs(visited, graph, neighbour)\n",
      "\u001b[1;32md:\\PPr\\search.ipynb Cell 1\u001b[0m in \u001b[0;36mdfs\u001b[1;34m(visited, graph, node)\u001b[0m\n\u001b[0;32m     <a href='vscode-notebook-cell:/d%3A/PPr/search.ipynb#W0sZmlsZQ%3D%3D?line=16'>17</a>\u001b[0m \u001b[39mprint\u001b[39m(node)\n\u001b[0;32m     <a href='vscode-notebook-cell:/d%3A/PPr/search.ipynb#W0sZmlsZQ%3D%3D?line=17'>18</a>\u001b[0m visited\u001b[39m.\u001b[39madd(node)\n\u001b[1;32m---> <a href='vscode-notebook-cell:/d%3A/PPr/search.ipynb#W0sZmlsZQ%3D%3D?line=18'>19</a>\u001b[0m \u001b[39mfor\u001b[39;00m neighbour \u001b[39min\u001b[39;00m graph[node]:\n\u001b[0;32m     <a href='vscode-notebook-cell:/d%3A/PPr/search.ipynb#W0sZmlsZQ%3D%3D?line=19'>20</a>\u001b[0m     dfs(visited, graph, neighbour)\n",
      "\u001b[1;31mKeyError\u001b[0m: ''"
     ]
    }
   ],
   "source": [
    "graph = {}\n",
    "val=int(input(\"enter the number of nodes:\"))\n",
    "\n",
    "for i in range (val):\n",
    "    \n",
    "    kv_str = input(\"input in the format 'key':['value1', 'value2', ...]: \")\n",
    "\n",
    "    key, values = kv_str.split(':')\n",
    "    values = [v.strip() for v in values.strip('[]').split(',')]\n",
    "    graph[key.strip()] = values\n",
    "\n",
    "print(graph)\n",
    "visited=set()\n",
    "\n",
    "def dfs(visited, graph, node):\n",
    "    if node not in visited:\n",
    "        print(node)\n",
    "        visited.add(node)\n",
    "        for neighbour in graph[node]:\n",
    "            dfs(visited, graph, neighbour)\n",
    "            \n",
    "\n",
    "dfs(visited, graph, '1')"
   ]
  },
  {
   "cell_type": "code",
   "execution_count": 30,
   "id": "479d4ecd",
   "metadata": {},
   "outputs": [
    {
     "name": "stdout",
     "output_type": "stream",
     "text": [
      "enter the number of nodes:2\n",
      "input in the format 'key':['value1', 'value2', ...]: 3:\n",
      "input in the format 'key':['value1', 'value2', ...]: 3:\n",
      "{'3': ['']}\n"
     ]
    }
   ],
   "source": [
    "graph = {}\n",
    "val=int(input(\"enter the number of nodes:\"))\n",
    "\n",
    "for i in range (val):\n",
    "    \n",
    "    kv_str = input(\"input in the format 'key':['value1', 'value2', ...]: \")\n",
    "\n",
    "    key, values = kv_str.split(':')\n",
    "    values = [v.strip() for v in values.strip('[]').split(',')]\n",
    "    graph[key.strip()] = values\n",
    "\n",
    "print(graph)\n",
    "\n"
   ]
  },
  {
   "cell_type": "code",
   "execution_count": 10,
   "id": "ae3ab4dd",
   "metadata": {
    "scrolled": true
   },
   "outputs": [
    {
     "name": "stdout",
     "output_type": "stream",
     "text": [
      "['the', 'name', 'i', 'dont', 'know']\n"
     ]
    }
   ],
   "source": [
    "str='the name i dont know'\n",
    "print(str.split(' '))"
   ]
  },
  {
   "cell_type": "code",
   "execution_count": 31,
   "id": "79345d5b",
   "metadata": {},
   "outputs": [
    {
     "name": "stdout",
     "output_type": "stream",
     "text": [
      "Following is the Depth-First Search\n",
      "1\n",
      "2\n",
      "4\n",
      "5\n",
      "3\n"
     ]
    }
   ],
   "source": [
    "graph = {\n",
    "    '1':['2','3'],\n",
    "    '2':['4'],\n",
    "    '3':[],\n",
    "    '4':['5'],\n",
    "    '5':['3']\n",
    "}\n",
    "\n",
    "visited = set() # Set to keep track of visited nodes of graph.\n",
    "\n",
    "def dfs(visited, graph, node):  #function for dfs \n",
    "    if node not in visited:\n",
    "        print (node)\n",
    "        visited.add(node)\n",
    "        for neighbour in graph[node]:\n",
    "            dfs(visited, graph, neighbour)\n",
    "\n",
    "# Driver Code\n",
    "print(\"Following is the Depth-First Search\")\n",
    "dfs(visited, graph, '1')"
   ]
  },
  {
   "cell_type": "code",
   "execution_count": null,
   "id": "d19b14c2",
   "metadata": {},
   "outputs": [],
   "source": []
  }
 ],
 "metadata": {
  "kernelspec": {
   "display_name": "Python 3",
   "language": "python",
   "name": "python3"
  },
  "language_info": {
   "codemirror_mode": {
    "name": "ipython",
    "version": 3
   },
   "file_extension": ".py",
   "mimetype": "text/x-python",
   "name": "python",
   "nbconvert_exporter": "python",
   "pygments_lexer": "ipython3",
   "version": "3.10.4"
  },
  "vscode": {
   "interpreter": {
    "hash": "76d7c06053c3456e5600312cec90888656fc0ed30c03d8425b9dac6e4fc8e014"
   }
  }
 },
 "nbformat": 4,
 "nbformat_minor": 5
}
