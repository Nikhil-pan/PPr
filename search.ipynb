{
 "cells": [
  {
   "cell_type": "code",
   "execution_count": 28,
   "id": "6a44d211",
   "metadata": {
    "scrolled": true
   },
   "outputs": [
    {
     "name": "stdout",
     "output_type": "stream",
     "text": [
      "enter the number of nodes:6\n",
      "input in the format 'key':['value1', 'value2', ...]: 5:[3,7]\n",
      "input in the format 'key':['value1', 'value2', ...]: 3:[2,4]\n",
      "input in the format 'key':['value1', 'value2', ...]: 7:[8]\n",
      "input in the format 'key':['value1', 'value2', ...]: 2:[]\n",
      "input in the format 'key':['value1', 'value2', ...]: 4:[8]\n",
      "input in the format 'key':['value1', 'value2', ...]: 8:[]\n",
      "{'5': ['3', '7'], '3': ['2', '4'], '7': ['8'], '2': [''], '4': ['8'], '8': ['']}\n",
      "5\n",
      "3\n",
      "2\n",
      "\n"
     ]
    },
    {
     "ename": "KeyError",
     "evalue": "''",
     "output_type": "error",
     "traceback": [
      "\u001b[1;31m---------------------------------------------------------------------------\u001b[0m",
      "\u001b[1;31mKeyError\u001b[0m                                  Traceback (most recent call last)",
      "Input \u001b[1;32mIn [28]\u001b[0m, in \u001b[0;36m<cell line: 23>\u001b[1;34m()\u001b[0m\n\u001b[0;32m     19\u001b[0m         \u001b[38;5;28;01mfor\u001b[39;00m neighbour \u001b[38;5;129;01min\u001b[39;00m graph[node]:\n\u001b[0;32m     20\u001b[0m             dfs(visited, graph, neighbour)\n\u001b[1;32m---> 23\u001b[0m \u001b[43mdfs\u001b[49m\u001b[43m(\u001b[49m\u001b[43mvisited\u001b[49m\u001b[43m,\u001b[49m\u001b[43m \u001b[49m\u001b[43mgraph\u001b[49m\u001b[43m,\u001b[49m\u001b[43m \u001b[49m\u001b[38;5;124;43m'\u001b[39;49m\u001b[38;5;124;43m5\u001b[39;49m\u001b[38;5;124;43m'\u001b[39;49m\u001b[43m)\u001b[49m\n",
      "Input \u001b[1;32mIn [28]\u001b[0m, in \u001b[0;36mdfs\u001b[1;34m(visited, graph, node)\u001b[0m\n\u001b[0;32m     18\u001b[0m visited\u001b[38;5;241m.\u001b[39madd(node)\n\u001b[0;32m     19\u001b[0m \u001b[38;5;28;01mfor\u001b[39;00m neighbour \u001b[38;5;129;01min\u001b[39;00m graph[node]:\n\u001b[1;32m---> 20\u001b[0m     \u001b[43mdfs\u001b[49m\u001b[43m(\u001b[49m\u001b[43mvisited\u001b[49m\u001b[43m,\u001b[49m\u001b[43m \u001b[49m\u001b[43mgraph\u001b[49m\u001b[43m,\u001b[49m\u001b[43m \u001b[49m\u001b[43mneighbour\u001b[49m\u001b[43m)\u001b[49m\n",
      "Input \u001b[1;32mIn [28]\u001b[0m, in \u001b[0;36mdfs\u001b[1;34m(visited, graph, node)\u001b[0m\n\u001b[0;32m     18\u001b[0m visited\u001b[38;5;241m.\u001b[39madd(node)\n\u001b[0;32m     19\u001b[0m \u001b[38;5;28;01mfor\u001b[39;00m neighbour \u001b[38;5;129;01min\u001b[39;00m graph[node]:\n\u001b[1;32m---> 20\u001b[0m     \u001b[43mdfs\u001b[49m\u001b[43m(\u001b[49m\u001b[43mvisited\u001b[49m\u001b[43m,\u001b[49m\u001b[43m \u001b[49m\u001b[43mgraph\u001b[49m\u001b[43m,\u001b[49m\u001b[43m \u001b[49m\u001b[43mneighbour\u001b[49m\u001b[43m)\u001b[49m\n",
      "Input \u001b[1;32mIn [28]\u001b[0m, in \u001b[0;36mdfs\u001b[1;34m(visited, graph, node)\u001b[0m\n\u001b[0;32m     18\u001b[0m visited\u001b[38;5;241m.\u001b[39madd(node)\n\u001b[0;32m     19\u001b[0m \u001b[38;5;28;01mfor\u001b[39;00m neighbour \u001b[38;5;129;01min\u001b[39;00m graph[node]:\n\u001b[1;32m---> 20\u001b[0m     \u001b[43mdfs\u001b[49m\u001b[43m(\u001b[49m\u001b[43mvisited\u001b[49m\u001b[43m,\u001b[49m\u001b[43m \u001b[49m\u001b[43mgraph\u001b[49m\u001b[43m,\u001b[49m\u001b[43m \u001b[49m\u001b[43mneighbour\u001b[49m\u001b[43m)\u001b[49m\n",
      "Input \u001b[1;32mIn [28]\u001b[0m, in \u001b[0;36mdfs\u001b[1;34m(visited, graph, node)\u001b[0m\n\u001b[0;32m     17\u001b[0m \u001b[38;5;28mprint\u001b[39m(node)\n\u001b[0;32m     18\u001b[0m visited\u001b[38;5;241m.\u001b[39madd(node)\n\u001b[1;32m---> 19\u001b[0m \u001b[38;5;28;01mfor\u001b[39;00m neighbour \u001b[38;5;129;01min\u001b[39;00m \u001b[43mgraph\u001b[49m\u001b[43m[\u001b[49m\u001b[43mnode\u001b[49m\u001b[43m]\u001b[49m:\n\u001b[0;32m     20\u001b[0m     dfs(visited, graph, neighbour)\n",
      "\u001b[1;31mKeyError\u001b[0m: ''"
     ]
    }
   ],
   "source": [
    "graph = {}\n",
    "val=int(input(\"enter the number of nodes:\"))\n",
    "\n",
    "for i in range (val):\n",
    "    \n",
    "    kv_str = input(\"input in the format 'key':['value1', 'value2', ...]: \")\n",
    "\n",
    "    key, values = kv_str.split(':')\n",
    "    values = [v.strip() for v in values.strip('[]').split(',')]\n",
    "    graph[key.strip()] = values\n",
    "\n",
    "print(graph)\n",
    "visited=set()\n",
    "\n",
    "def dfs(visited, graph, node):\n",
    "    if node not in visited:\n",
    "        print(node)\n",
    "        visited.add(node)\n",
    "        for neighbour in graph[node]:\n",
    "            dfs(visited, graph, neighbour)\n",
    "            \n",
    "\n",
    "dfs(visited, graph, '1')"
   ]
  },
  {
   "cell_type": "code",
   "execution_count": 30,
   "id": "479d4ecd",
   "metadata": {},
   "outputs": [
    {
     "name": "stdout",
     "output_type": "stream",
     "text": [
      "enter the number of nodes:2\n",
      "input in the format 'key':['value1', 'value2', ...]: 3:\n",
      "input in the format 'key':['value1', 'value2', ...]: 3:\n",
      "{'3': ['']}\n"
     ]
    }
   ],
   "source": [
    "graph = {}\n",
    "val=int(input(\"enter the number of nodes:\"))\n",
    "\n",
    "for i in range (val):\n",
    "    \n",
    "    kv_str = input(\"input in the format 'key':['value1', 'value2', ...]: \")\n",
    "\n",
    "    key, values = kv_str.split(':')\n",
    "    values = [v.strip() for v in values.strip('[]').split(',')]\n",
    "    graph[key.strip()] = values\n",
    "\n",
    "print(graph)\n",
    "\n"
   ]
  },
  {
   "cell_type": "code",
   "execution_count": 10,
   "id": "ae3ab4dd",
   "metadata": {
    "scrolled": true
   },
   "outputs": [
    {
     "name": "stdout",
     "output_type": "stream",
     "text": [
      "['the', 'name', 'i', 'dont', 'know']\n"
     ]
    }
   ],
   "source": [
    "str='the name i dont know'\n",
    "print(str.split(' '))"
   ]
  },
  {
   "cell_type": "code",
   "execution_count": 31,
   "id": "79345d5b",
   "metadata": {},
   "outputs": [
    {
     "name": "stdout",
     "output_type": "stream",
     "text": [
      "Following is the Depth-First Search\n",
      "1\n",
      "2\n",
      "4\n",
      "5\n",
      "3\n"
     ]
    }
   ],
   "source": [
    "graph = {\n",
    "    '1':['2','3'],\n",
    "    '2':['4'],\n",
    "    '3':[],\n",
    "    '4':['5'],\n",
    "    '5':['3']\n",
    "}\n",
    "\n",
    "visited = set() # Set to keep track of visited nodes of graph.\n",
    "\n",
    "def dfs(visited, graph, node):  #function for dfs \n",
    "    if node not in visited:\n",
    "        print (node)\n",
    "        visited.add(node)\n",
    "        for neighbour in graph[node]:\n",
    "            dfs(visited, graph, neighbour)\n",
    "\n",
    "# Driver Code\n",
    "print(\"Following is the Depth-First Search\")\n",
    "dfs(visited, graph, '1')"
   ]
  },
  {
   "cell_type": "code",
   "execution_count": null,
   "id": "d19b14c2",
   "metadata": {},
   "outputs": [],
   "source": []
  }
 ],
 "metadata": {
  "kernelspec": {
   "display_name": "Python 3 (ipykernel)",
   "language": "python",
   "name": "python3"
  },
  "language_info": {
   "codemirror_mode": {
    "name": "ipython",
    "version": 3
   },
   "file_extension": ".py",
   "mimetype": "text/x-python",
   "name": "python",
   "nbconvert_exporter": "python",
   "pygments_lexer": "ipython3",
   "version": "3.9.12"
  }
 },
 "nbformat": 4,
 "nbformat_minor": 5
}
