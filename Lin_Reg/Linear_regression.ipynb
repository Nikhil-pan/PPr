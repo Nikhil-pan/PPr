{
 "cells": [
  {
   "cell_type": "code",
   "execution_count": 1,
   "id": "cf746aee",
   "metadata": {
    "scrolled": false
   },
   "outputs": [
    {
     "ename": "ModuleNotFoundError",
     "evalue": "No module named 'pandas'",
     "output_type": "error",
     "traceback": [
      "\u001b[1;31m---------------------------------------------------------------------------\u001b[0m",
      "\u001b[1;31mModuleNotFoundError\u001b[0m                       Traceback (most recent call last)",
      "\u001b[1;32md:\\PPr\\Lin_Reg\\Linear_regression.ipynb Cell 1\u001b[0m in \u001b[0;36m<cell line: 1>\u001b[1;34m()\u001b[0m\n\u001b[1;32m----> <a href='vscode-notebook-cell:/d%3A/PPr/Lin_Reg/Linear_regression.ipynb#W0sZmlsZQ%3D%3D?line=0'>1</a>\u001b[0m \u001b[39mimport\u001b[39;00m \u001b[39mpandas\u001b[39;00m \u001b[39mas\u001b[39;00m \u001b[39mpd\u001b[39;00m\n\u001b[0;32m      <a href='vscode-notebook-cell:/d%3A/PPr/Lin_Reg/Linear_regression.ipynb#W0sZmlsZQ%3D%3D?line=1'>2</a>\u001b[0m \u001b[39mimport\u001b[39;00m \u001b[39mnumpy\u001b[39;00m \u001b[39mas\u001b[39;00m \u001b[39mnp\u001b[39;00m\n\u001b[0;32m      <a href='vscode-notebook-cell:/d%3A/PPr/Lin_Reg/Linear_regression.ipynb#W0sZmlsZQ%3D%3D?line=2'>3</a>\u001b[0m \u001b[39mimport\u001b[39;00m \u001b[39mmatplotlib\u001b[39;00m\u001b[39m.\u001b[39;00m\u001b[39mpyplot\u001b[39;00m \u001b[39mas\u001b[39;00m \u001b[39mplt\u001b[39;00m\n",
      "\u001b[1;31mModuleNotFoundError\u001b[0m: No module named 'pandas'"
     ]
    }
   ],
   "source": [
    "import pandas as pd\n",
    "import numpy as np\n",
    "import matplotlib.pyplot as plt\n",
    "import seaborn as seabornInstance\n",
    "from sklearn.model_selection import train_test_split\n",
    "from sklearn.linear_model import LinearRegression \n",
    "from sklearn import metrics\n",
    "\n",
    "dataset= pd.read_csv('D:\\PPr\\Lin_Reg\\weatherHistory.csv')\n",
    "\n",
    "print(dataset.shape) #the dimensions of the dataset\n",
    "\n",
    "print(dataset.describe()) # describes the dataset\n",
    "\n",
    "\n",
    "# plotting the relationship between humidity and wind speed\n",
    "dataset.plot(x='Temperature (C)', y='Apparent Temperature (C)', style='o')\n",
    "plt.title('temp vs app_temp')\n",
    "plt.xlabel('Temperature (C)')\n",
    "plt.ylabel('Apparent Temperature (C)')\n",
    "plt.show()\n",
    "\n",
    "\n",
    "\n",
    "#plot the data of humidity\n",
    "plt.figure(figsize=(15,10))\n",
    "plt.tight_layout()\n",
    "seabornInstance.displot(dataset['Temperature (C)'])\n",
    "plt.show()\n",
    "\n",
    "\n",
    "\n",
    "#data splicing\n",
    "x = dataset['Temperature (C)'].values.reshape(-1,1)\n",
    "y = dataset['Apparent Temperature (C)'].values.reshape(-1,1)\n",
    "\n",
    "#for indexing use x = dataset.iloc[:, :-1].values\n",
    "\n",
    "x_train, x_test, y_train, y_test = train_test_split(x, y, test_size=0.2, random_state=0)\n",
    "\n",
    "regressor= LinearRegression()\n",
    "# training the model\n",
    "regressor.fit(x_train, y_train) \n",
    "\n",
    "\n",
    "#calculate the intercept\n",
    "print('Intercept:', regressor.intercept_)\n",
    "print('Coefficient',regressor.coef_)\n",
    "\n",
    "\n",
    "\n",
    "# predictions for 'y' from values of 'x'\n",
    "y_pred = regressor.predict(x_test)\n",
    "\n",
    "df = pd.DataFrame({'Actual': y_test.flatten(), 'Predicted': y_pred.flatten()})\n",
    "print(df)\n",
    "\n",
    "\n",
    "\n",
    "#to increase accuracy train the model with more data \n",
    "\n",
    "\n",
    "#plotting the predictions and actual values for comparison\n",
    "df1=df.head(20)\n",
    "df1.plot(kind='bar',figsize=(16,10))\n",
    "plt.grid(which='major', linestyle='-', linewidth='0.5', color='green')\n",
    "plt.grid(which='minor', linestyle=':', linewidth='0.5', color='black')\n",
    "plt.show()\n",
    "\n",
    "\n",
    "\n",
    "#plotting the straight line relation of temp and predicted app_temp\n",
    "plt.scatter(x_test, y_test, color='gray')\n",
    "plt.plot(x_test, y_pred, color='red', linewidth=2)\n",
    "plt.show()\n",
    "\n",
    "\n",
    "\n",
    "#performance evaluations\n",
    "print('Mean absolute error:', metrics.mean_absolute_error(y_test, y_pred))\n",
    "print('Mean Squared Error:',metrics.mean_squared_error(y_test, y_pred))\n",
    "print('RMS error:',np.sqrt(metrics.mean_squared_error(y_test, y_pred)))\n"
   ]
  },
  {
   "cell_type": "code",
   "execution_count": null,
   "id": "c1d7981c",
   "metadata": {},
   "outputs": [],
   "source": []
  },
  {
   "cell_type": "code",
   "execution_count": null,
   "id": "79289a42",
   "metadata": {},
   "outputs": [],
   "source": []
  },
  {
   "cell_type": "code",
   "execution_count": null,
   "id": "fc09f893",
   "metadata": {},
   "outputs": [],
   "source": []
  },
  {
   "cell_type": "code",
   "execution_count": null,
   "id": "5d494c11",
   "metadata": {},
   "outputs": [],
   "source": []
  },
  {
   "cell_type": "code",
   "execution_count": null,
   "id": "2779d268",
   "metadata": {},
   "outputs": [],
   "source": []
  },
  {
   "cell_type": "code",
   "execution_count": null,
   "id": "f2c0f1e1",
   "metadata": {},
   "outputs": [],
   "source": []
  }
 ],
 "metadata": {
  "kernelspec": {
   "display_name": "Python 3",
   "language": "python",
   "name": "python3"
  },
  "language_info": {
   "codemirror_mode": {
    "name": "ipython",
    "version": 3
   },
   "file_extension": ".py",
   "mimetype": "text/x-python",
   "name": "python",
   "nbconvert_exporter": "python",
   "pygments_lexer": "ipython3",
   "version": "3.10.4"
  },
  "vscode": {
   "interpreter": {
    "hash": "76d7c06053c3456e5600312cec90888656fc0ed30c03d8425b9dac6e4fc8e014"
   }
  }
 },
 "nbformat": 4,
 "nbformat_minor": 5
}
